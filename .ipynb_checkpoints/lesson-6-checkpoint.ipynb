{
 "cells": [
  {
   "cell_type": "markdown",
   "id": "fff7721c-e579-43a5-ab69-934b5eaca57e",
   "metadata": {},
   "source": [
    "# `groupby()`"
   ]
  },
  {
   "cell_type": "markdown",
   "id": "96e1a558-cf6f-41ee-b429-323ffc25332b",
   "metadata": {},
   "source": [
    "In this section we will go over the `groupby()` function and the split-apply-combine strategy. We will use the Palmer penguins data."
   ]
  },
  {
   "cell_type": "code",
   "execution_count": 5,
   "id": "f2c1faee-5f70-4956-9644-c4faf55186ae",
   "metadata": {
    "tags": []
   },
   "outputs": [
    {
     "name": "stdout",
     "output_type": "stream",
     "text": [
      "344\n"
     ]
    },
    {
     "data": {
      "text/html": [
       "<div>\n",
       "<style scoped>\n",
       "    .dataframe tbody tr th:only-of-type {\n",
       "        vertical-align: middle;\n",
       "    }\n",
       "\n",
       "    .dataframe tbody tr th {\n",
       "        vertical-align: top;\n",
       "    }\n",
       "\n",
       "    .dataframe thead th {\n",
       "        text-align: right;\n",
       "    }\n",
       "</style>\n",
       "<table border=\"1\" class=\"dataframe\">\n",
       "  <thead>\n",
       "    <tr style=\"text-align: right;\">\n",
       "      <th></th>\n",
       "      <th>species</th>\n",
       "      <th>island</th>\n",
       "      <th>bill_length_mm</th>\n",
       "      <th>bill_depth_mm</th>\n",
       "      <th>flipper_length_mm</th>\n",
       "      <th>body_mass_g</th>\n",
       "      <th>sex</th>\n",
       "      <th>year</th>\n",
       "    </tr>\n",
       "  </thead>\n",
       "  <tbody>\n",
       "    <tr>\n",
       "      <th>0</th>\n",
       "      <td>Adelie</td>\n",
       "      <td>Torgersen</td>\n",
       "      <td>39.1</td>\n",
       "      <td>18.7</td>\n",
       "      <td>181.0</td>\n",
       "      <td>3750.0</td>\n",
       "      <td>male</td>\n",
       "      <td>2007</td>\n",
       "    </tr>\n",
       "    <tr>\n",
       "      <th>1</th>\n",
       "      <td>Adelie</td>\n",
       "      <td>Torgersen</td>\n",
       "      <td>39.5</td>\n",
       "      <td>17.4</td>\n",
       "      <td>186.0</td>\n",
       "      <td>3800.0</td>\n",
       "      <td>female</td>\n",
       "      <td>2007</td>\n",
       "    </tr>\n",
       "    <tr>\n",
       "      <th>2</th>\n",
       "      <td>Adelie</td>\n",
       "      <td>Torgersen</td>\n",
       "      <td>40.3</td>\n",
       "      <td>18.0</td>\n",
       "      <td>195.0</td>\n",
       "      <td>3250.0</td>\n",
       "      <td>female</td>\n",
       "      <td>2007</td>\n",
       "    </tr>\n",
       "    <tr>\n",
       "      <th>3</th>\n",
       "      <td>Adelie</td>\n",
       "      <td>Torgersen</td>\n",
       "      <td>NaN</td>\n",
       "      <td>NaN</td>\n",
       "      <td>NaN</td>\n",
       "      <td>NaN</td>\n",
       "      <td>NaN</td>\n",
       "      <td>2007</td>\n",
       "    </tr>\n",
       "    <tr>\n",
       "      <th>4</th>\n",
       "      <td>Adelie</td>\n",
       "      <td>Torgersen</td>\n",
       "      <td>36.7</td>\n",
       "      <td>19.3</td>\n",
       "      <td>193.0</td>\n",
       "      <td>3450.0</td>\n",
       "      <td>female</td>\n",
       "      <td>2007</td>\n",
       "    </tr>\n",
       "  </tbody>\n",
       "</table>\n",
       "</div>"
      ],
      "text/plain": [
       "  species     island  bill_length_mm  bill_depth_mm  flipper_length_mm  \\\n",
       "0  Adelie  Torgersen            39.1           18.7              181.0   \n",
       "1  Adelie  Torgersen            39.5           17.4              186.0   \n",
       "2  Adelie  Torgersen            40.3           18.0              195.0   \n",
       "3  Adelie  Torgersen             NaN            NaN                NaN   \n",
       "4  Adelie  Torgersen            36.7           19.3              193.0   \n",
       "\n",
       "   body_mass_g     sex  year  \n",
       "0       3750.0    male  2007  \n",
       "1       3800.0  female  2007  \n",
       "2       3250.0  female  2007  \n",
       "3          NaN     NaN  2007  \n",
       "4       3450.0  female  2007  "
      ]
     },
     "execution_count": 5,
     "metadata": {},
     "output_type": "execute_result"
    }
   ],
   "source": [
    "# import pandas library with standard abbreviations\n",
    "import pandas as pd\n",
    "\n",
    "# read in Palmer penguins data\n",
    "penguins = pd.read_csv(\"https://raw.githubusercontent.com/allisonhorst/palmerpenguins/main/inst/extdata/penguins.csv\")\n",
    "\n",
    "# print number of rows\n",
    "print(len(penguins)) \n",
    "\n",
    "# view first 5 rows of data frame\n",
    "penguins.head() \n"
   ]
  },
  {
   "cell_type": "markdown",
   "id": "fd5d75b7-219d-4eeb-9a96-49c3e6c26566",
   "metadata": {},
   "source": [
    "# Summary statistics\n",
    "\n",
    "In pandas it is easy to get summary statistics for each column in a dataframe by using methods such as\n",
    "\n",
    "- `sum()`: sum values in each column,\n",
    "- `count()`: count non-NA values in each column,\n",
    "- `min()` and `max()`: get the minimum and maximum value in each column,\n",
    "- `mean()` and `median()`: get the mean and median value in each column,\n",
    "- `std()` and `var()`: get the standard deviation and variance in each column.\n",
    "\n",
    "\n",
    "example"
   ]
  },
  {
   "cell_type": "code",
   "execution_count": 7,
   "id": "236f4cee-5a92-4395-85a9-c7cbde7e2b1d",
   "metadata": {
    "tags": []
   },
   "outputs": [
    {
     "data": {
      "text/plain": [
       "species              344\n",
       "island               344\n",
       "bill_length_mm       342\n",
       "bill_depth_mm        342\n",
       "flipper_length_mm    342\n",
       "body_mass_g          342\n",
       "sex                  333\n",
       "year                 344\n",
       "dtype: int64"
      ]
     },
     "execution_count": 7,
     "metadata": {},
     "output_type": "execute_result"
    }
   ],
   "source": [
    "# get the number of non-NA values in each column\n",
    "penguins.count()"
   ]
  },
  {
   "cell_type": "code",
   "execution_count": 10,
   "id": "c3b1ada1-2c3f-4510-9a0d-b9e0fb8d72bd",
   "metadata": {
    "tags": []
   },
   "outputs": [
    {
     "data": {
      "text/plain": [
       "bill_length_mm         32.1\n",
       "bill_depth_mm          13.1\n",
       "flipper_length_mm     172.0\n",
       "body_mass_g          2700.0\n",
       "year                 2007.0\n",
       "dtype: float64"
      ]
     },
     "execution_count": 10,
     "metadata": {},
     "output_type": "execute_result"
    }
   ],
   "source": [
    "# get the minimum value in each column\n",
    "penguins.select_dtypes('number').min() \n",
    "# select_dtypes('number') selects columns that contain numbers "
   ]
  },
  {
   "cell_type": "markdown",
   "id": "4a5ba620-2b91-4832-86d5-0bae7a122592",
   "metadata": {},
   "source": [
    "# Grouping\n",
    "\n",
    "Our penguins data can be naturally split (grouped) into different groups: there are three different species, two sexes and three islands. \n",
    "- islands, sex, species, year\n",
    "\n",
    "Often, we want to calculate a certain statistic for each group. For example, suppose we want to calculate the average flipper length per species. How would we do this “by hand”?\n",
    "\n",
    "0. We start with our data and notice there are multiple species in the `species` column.\n",
    "\n",
    "1. We *split* our original table to group all observations from the same species together.\n",
    "\n",
    "2. We calculate the average flipper length for each of the groups we formed.\n",
    "\n",
    "3. Then we *combine* the values for average flipper length per species into a single table.\n",
    "\n",
    "\n",
    "This is known as the **Split-Apply-Combine strategy**. This strategy follows the three steps we explained above:\n",
    "\n",
    "1. **Split**: Split the data into logical groups (e.g. species, sex, island, etc.)\n",
    "\n",
    "2. **Apply**: Calculate some summary statistic on each group (e.g. average flipper length by species, number of individuals per island, body mass by sex, etc.)\n",
    "\n",
    "3. **Combine**: Combine the statistic calculated on each group back together."
   ]
  },
  {
   "cell_type": "markdown",
   "id": "f29b114f-89f2-42d0-8ad4-9cc2b1519034",
   "metadata": {},
   "source": [
    "Split-apply-combine to calculate mean flipper length\n",
    "\n",
    "\n",
    "- split data into groups with group)by\n",
    "- apply a function/method (like .mean())\n",
    "- combine into one table for your final table of summary statistics (displays each group and their associated summary stat)\n",
    "\n",
    "\n",
    "\n",
    "\n",
    "In Python we can use the `groupby()` method to split (i.e. group) the data into different categories. \n",
    "\n",
    "The general syntax for `groupby()` is\n",
    "\n",
    "```\n",
    "df.groupby(columns_to_group_by)\n",
    "```\n",
    "\n",
    "where most often we will have `columns_to_group_by` = a single column name (string) or a list of column names, the unique values of the column (or columns) will be used as the groups of the data frame\n",
    "\n",
    "**Example**\n",
    "\n",
    "First, if we don’t use the `groupby()` method, we obtain the average for the whole flipper length column:"
   ]
  },
  {
   "cell_type": "code",
   "execution_count": 12,
   "id": "c2c3fad6-4e2f-4411-afdd-9e223c341ad1",
   "metadata": {
    "tags": []
   },
   "outputs": [
    {
     "data": {
      "text/plain": [
       "200.91520467836258"
      ]
     },
     "execution_count": 12,
     "metadata": {},
     "output_type": "execute_result"
    }
   ],
   "source": [
    "penguins.flipper_length_mm.mean()"
   ]
  },
  {
   "cell_type": "markdown",
   "id": "606185bb-56e0-481c-a4b0-e053e168591e",
   "metadata": {},
   "source": [
    "To get the mean flipper length by species we first group our dataset by the species column’s data:"
   ]
  },
  {
   "cell_type": "code",
   "execution_count": 14,
   "id": "92abc9d8-f440-49f6-8de1-532d8b86c052",
   "metadata": {
    "tags": []
   },
   "outputs": [
    {
     "data": {
      "text/plain": [
       "species\n",
       "Adelie       189.953642\n",
       "Chinstrap    195.823529\n",
       "Gentoo       217.186992\n",
       "Name: flipper_length_mm, dtype: float64"
      ]
     },
     "execution_count": 14,
     "metadata": {},
     "output_type": "execute_result"
    }
   ],
   "source": [
    "# average flipper lenth per species\n",
    "penguins.groupby(\"species\").flipper_length_mm.mean()"
   ]
  },
  {
   "cell_type": "markdown",
   "id": "83cbf8ee-6f6d-4c79-96f4-228d743a0459",
   "metadata": {},
   "source": [
    "There’s a lot going on there, let’s break it down (remember the . can be read as “and then…”)\n",
    "\n",
    "- start with the `penguins` data frame, and then…\n",
    "- use `groupby()` to group the data frame by `species` values, and then…\n",
    "- select the '`flipper_length_mm`' column, and then…\n",
    "- calculate the `mean()`\n",
    "\n",
    "We can store our new data frame as `avg_flipper` and then graph it as a bar plot:"
   ]
  }
 ],
 "metadata": {
  "kernelspec": {
   "display_name": "Anaconda 3 (Base)",
   "language": "python",
   "name": "base"
  },
  "language_info": {
   "codemirror_mode": {
    "name": "ipython",
    "version": 3
   },
   "file_extension": ".py",
   "mimetype": "text/x-python",
   "name": "python",
   "nbconvert_exporter": "python",
   "pygments_lexer": "ipython3",
   "version": "3.9.13"
  }
 },
 "nbformat": 4,
 "nbformat_minor": 5
}
