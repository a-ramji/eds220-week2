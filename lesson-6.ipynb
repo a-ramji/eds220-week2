{
 "cells": [
  {
   "cell_type": "markdown",
   "id": "fff7721c-e579-43a5-ab69-934b5eaca57e",
   "metadata": {},
   "source": [
    "# `groupby()`"
   ]
  },
  {
   "cell_type": "markdown",
   "id": "96e1a558-cf6f-41ee-b429-323ffc25332b",
   "metadata": {},
   "source": [
    "In this section we will go over the `groupby()` function and the split-apply-combine strategy. We will use the Palmer penguins data."
   ]
  },
  {
   "cell_type": "code",
   "execution_count": 5,
   "id": "f2c1faee-5f70-4956-9644-c4faf55186ae",
   "metadata": {
    "tags": []
   },
   "outputs": [
    {
     "name": "stdout",
     "output_type": "stream",
     "text": [
      "344\n"
     ]
    },
    {
     "data": {
      "text/html": [
       "<div>\n",
       "<style scoped>\n",
       "    .dataframe tbody tr th:only-of-type {\n",
       "        vertical-align: middle;\n",
       "    }\n",
       "\n",
       "    .dataframe tbody tr th {\n",
       "        vertical-align: top;\n",
       "    }\n",
       "\n",
       "    .dataframe thead th {\n",
       "        text-align: right;\n",
       "    }\n",
       "</style>\n",
       "<table border=\"1\" class=\"dataframe\">\n",
       "  <thead>\n",
       "    <tr style=\"text-align: right;\">\n",
       "      <th></th>\n",
       "      <th>species</th>\n",
       "      <th>island</th>\n",
       "      <th>bill_length_mm</th>\n",
       "      <th>bill_depth_mm</th>\n",
       "      <th>flipper_length_mm</th>\n",
       "      <th>body_mass_g</th>\n",
       "      <th>sex</th>\n",
       "      <th>year</th>\n",
       "    </tr>\n",
       "  </thead>\n",
       "  <tbody>\n",
       "    <tr>\n",
       "      <th>0</th>\n",
       "      <td>Adelie</td>\n",
       "      <td>Torgersen</td>\n",
       "      <td>39.1</td>\n",
       "      <td>18.7</td>\n",
       "      <td>181.0</td>\n",
       "      <td>3750.0</td>\n",
       "      <td>male</td>\n",
       "      <td>2007</td>\n",
       "    </tr>\n",
       "    <tr>\n",
       "      <th>1</th>\n",
       "      <td>Adelie</td>\n",
       "      <td>Torgersen</td>\n",
       "      <td>39.5</td>\n",
       "      <td>17.4</td>\n",
       "      <td>186.0</td>\n",
       "      <td>3800.0</td>\n",
       "      <td>female</td>\n",
       "      <td>2007</td>\n",
       "    </tr>\n",
       "    <tr>\n",
       "      <th>2</th>\n",
       "      <td>Adelie</td>\n",
       "      <td>Torgersen</td>\n",
       "      <td>40.3</td>\n",
       "      <td>18.0</td>\n",
       "      <td>195.0</td>\n",
       "      <td>3250.0</td>\n",
       "      <td>female</td>\n",
       "      <td>2007</td>\n",
       "    </tr>\n",
       "    <tr>\n",
       "      <th>3</th>\n",
       "      <td>Adelie</td>\n",
       "      <td>Torgersen</td>\n",
       "      <td>NaN</td>\n",
       "      <td>NaN</td>\n",
       "      <td>NaN</td>\n",
       "      <td>NaN</td>\n",
       "      <td>NaN</td>\n",
       "      <td>2007</td>\n",
       "    </tr>\n",
       "    <tr>\n",
       "      <th>4</th>\n",
       "      <td>Adelie</td>\n",
       "      <td>Torgersen</td>\n",
       "      <td>36.7</td>\n",
       "      <td>19.3</td>\n",
       "      <td>193.0</td>\n",
       "      <td>3450.0</td>\n",
       "      <td>female</td>\n",
       "      <td>2007</td>\n",
       "    </tr>\n",
       "  </tbody>\n",
       "</table>\n",
       "</div>"
      ],
      "text/plain": [
       "  species     island  bill_length_mm  bill_depth_mm  flipper_length_mm  \\\n",
       "0  Adelie  Torgersen            39.1           18.7              181.0   \n",
       "1  Adelie  Torgersen            39.5           17.4              186.0   \n",
       "2  Adelie  Torgersen            40.3           18.0              195.0   \n",
       "3  Adelie  Torgersen             NaN            NaN                NaN   \n",
       "4  Adelie  Torgersen            36.7           19.3              193.0   \n",
       "\n",
       "   body_mass_g     sex  year  \n",
       "0       3750.0    male  2007  \n",
       "1       3800.0  female  2007  \n",
       "2       3250.0  female  2007  \n",
       "3          NaN     NaN  2007  \n",
       "4       3450.0  female  2007  "
      ]
     },
     "execution_count": 5,
     "metadata": {},
     "output_type": "execute_result"
    }
   ],
   "source": [
    "# import pandas library with standard abbreviations\n",
    "import pandas as pd\n",
    "\n",
    "# read in Palmer penguins data\n",
    "penguins = pd.read_csv(\"https://raw.githubusercontent.com/allisonhorst/palmerpenguins/main/inst/extdata/penguins.csv\")\n",
    "\n",
    "# print number of rows\n",
    "print(len(penguins)) \n",
    "\n",
    "# view first 5 rows of data frame\n",
    "penguins.head() \n"
   ]
  },
  {
   "cell_type": "markdown",
   "id": "fd5d75b7-219d-4eeb-9a96-49c3e6c26566",
   "metadata": {},
   "source": [
    "# Summary statistics\n",
    "\n",
    "In pandas it is easy to get summary statistics for each column in a dataframe by using methods such as\n",
    "\n",
    "- `sum()`: sum values in each column,\n",
    "- `count()`: count non-NA values in each column,\n",
    "- `min()` and `max()`: get the minimum and maximum value in each column,\n",
    "- `mean()` and `median()`: get the mean and median value in each column,\n",
    "- `std()` and `var()`: get the standard deviation and variance in each column.\n",
    "\n",
    "\n",
    "example"
   ]
  },
  {
   "cell_type": "code",
   "execution_count": 7,
   "id": "236f4cee-5a92-4395-85a9-c7cbde7e2b1d",
   "metadata": {
    "tags": []
   },
   "outputs": [
    {
     "data": {
      "text/plain": [
       "species              344\n",
       "island               344\n",
       "bill_length_mm       342\n",
       "bill_depth_mm        342\n",
       "flipper_length_mm    342\n",
       "body_mass_g          342\n",
       "sex                  333\n",
       "year                 344\n",
       "dtype: int64"
      ]
     },
     "execution_count": 7,
     "metadata": {},
     "output_type": "execute_result"
    }
   ],
   "source": [
    "# get the number of non-NA values in each column\n",
    "penguins.count()"
   ]
  },
  {
   "cell_type": "code",
   "execution_count": 10,
   "id": "c3b1ada1-2c3f-4510-9a0d-b9e0fb8d72bd",
   "metadata": {
    "tags": []
   },
   "outputs": [
    {
     "data": {
      "text/plain": [
       "bill_length_mm         32.1\n",
       "bill_depth_mm          13.1\n",
       "flipper_length_mm     172.0\n",
       "body_mass_g          2700.0\n",
       "year                 2007.0\n",
       "dtype: float64"
      ]
     },
     "execution_count": 10,
     "metadata": {},
     "output_type": "execute_result"
    }
   ],
   "source": [
    "# get the minimum value in each column\n",
    "penguins.select_dtypes('number').min() \n",
    "# select_dtypes('number') selects columns that contain numbers "
   ]
  },
  {
   "cell_type": "markdown",
   "id": "4a5ba620-2b91-4832-86d5-0bae7a122592",
   "metadata": {},
   "source": [
    "# Grouping\n",
    "\n",
    "Our penguins data can be naturally split (grouped) into different groups: there are three different species, two sexes and three islands. \n",
    "- islands, sex, species, year\n",
    "\n",
    "Often, we want to calculate a certain statistic for each group. For example, suppose we want to calculate the average flipper length per species. How would we do this “by hand”?\n",
    "\n",
    "0. We start with our data and notice there are multiple species in the `species` column.\n",
    "\n",
    "1. We *split* our original table to group all observations from the same species together.\n",
    "\n",
    "2. We calculate the average flipper length for each of the groups we formed.\n",
    "\n",
    "3. Then we *combine* the values for average flipper length per species into a single table.\n",
    "\n",
    "\n",
    "This is known as the **Split-Apply-Combine strategy**. This strategy follows the three steps we explained above:\n",
    "\n",
    "1. **Split**: Split the data into logical groups (e.g. species, sex, island, etc.)\n",
    "\n",
    "2. **Apply**: Calculate some summary statistic on each group (e.g. average flipper length by species, number of individuals per island, body mass by sex, etc.)\n",
    "\n",
    "3. **Combine**: Combine the statistic calculated on each group back together."
   ]
  },
  {
   "cell_type": "markdown",
   "id": "f29b114f-89f2-42d0-8ad4-9cc2b1519034",
   "metadata": {},
   "source": [
    "Split-apply-combine to calculate mean flipper length\n",
    "\n",
    "\n",
    "- split data into groups with group)by\n",
    "- apply a function/method (like .mean())\n",
    "- combine into one table for your final table of summary statistics (displays each group and their associated summary stat)\n",
    "\n",
    "\n",
    "\n",
    "\n",
    "In Python we can use the `groupby()` method to split (i.e. group) the data into different categories. \n",
    "\n",
    "The general syntax for `groupby()` is\n",
    "\n",
    "```\n",
    "df.groupby(columns_to_group_by)\n",
    "```\n",
    "\n",
    "where most often we will have `columns_to_group_by` = a single column name (string) or a list of column names, the unique values of the column (or columns) will be used as the groups of the data frame\n",
    "\n",
    "**Example**\n",
    "\n",
    "First, if we don’t use the `groupby()` method, we obtain the average for the whole flipper length column:"
   ]
  },
  {
   "cell_type": "code",
   "execution_count": 12,
   "id": "c2c3fad6-4e2f-4411-afdd-9e223c341ad1",
   "metadata": {
    "tags": []
   },
   "outputs": [
    {
     "data": {
      "text/plain": [
       "200.91520467836258"
      ]
     },
     "execution_count": 12,
     "metadata": {},
     "output_type": "execute_result"
    }
   ],
   "source": [
    "penguins.flipper_length_mm.mean()"
   ]
  },
  {
   "cell_type": "markdown",
   "id": "606185bb-56e0-481c-a4b0-e053e168591e",
   "metadata": {},
   "source": [
    "To get the mean flipper length by species we first group our dataset by the species column’s data:"
   ]
  },
  {
   "cell_type": "code",
   "execution_count": 26,
   "id": "9cb3b9db-40fe-4ee3-ba2e-a3cd2b700b77",
   "metadata": {
    "tags": []
   },
   "outputs": [
    {
     "data": {
      "text/plain": [
       "species\n",
       "Adelie       189.953642\n",
       "Chinstrap    195.823529\n",
       "Gentoo       217.186992\n",
       "Name: flipper_length_mm, dtype: float64"
      ]
     },
     "execution_count": 26,
     "metadata": {},
     "output_type": "execute_result"
    }
   ],
   "source": [
    "penguins.groupby(\"species\").mean().flipper_length_mm"
   ]
  },
  {
   "cell_type": "code",
   "execution_count": 14,
   "id": "92abc9d8-f440-49f6-8de1-532d8b86c052",
   "metadata": {
    "tags": []
   },
   "outputs": [
    {
     "data": {
      "text/plain": [
       "species\n",
       "Adelie       189.953642\n",
       "Chinstrap    195.823529\n",
       "Gentoo       217.186992\n",
       "Name: flipper_length_mm, dtype: float64"
      ]
     },
     "execution_count": 14,
     "metadata": {},
     "output_type": "execute_result"
    }
   ],
   "source": [
    "# average flipper lenth per species\n",
    "penguins.groupby(\"species\").flipper_length_mm.mean()"
   ]
  },
  {
   "cell_type": "markdown",
   "id": "83cbf8ee-6f6d-4c79-96f4-228d743a0459",
   "metadata": {},
   "source": [
    "There’s a lot going on there, let’s break it down (remember the . can be read as “and then…”)\n",
    "\n",
    "- start with the `penguins` data frame, and then…\n",
    "- use `groupby()` to group the data frame by `species` values, and then…\n",
    "- select the '`flipper_length_mm`' column, and then…\n",
    "- calculate the `mean()`\n",
    "\n",
    "We can store our new data frame as `avg_flipper` and then graph it as a bar plot:"
   ]
  },
  {
   "cell_type": "code",
   "execution_count": 27,
   "id": "3b5e78d6-c257-45bb-9a45-b4e93a1bee02",
   "metadata": {
    "tags": []
   },
   "outputs": [
    {
     "data": {
      "text/plain": [
       "<AxesSubplot:title={'center':'Average flipper length by species'}, xlabel='species', ylabel='Flipper length (mm)'>"
      ]
     },
     "execution_count": 27,
     "metadata": {},
     "output_type": "execute_result"
    },
    {
     "data": {
      "image/png": "[encoded data removed]",
      "text/plain": [
       "<Figure size 640x480 with 1 Axes>"
      ]
     },
     "metadata": {},
     "output_type": "display_data"
    }
   ],
   "source": [
    "# averge flipper length per species\n",
    "avg_flipper = penguins.groupby(\"species\").flipper_length_mm.mean()\n",
    "\n",
    "# sort in descending order\n",
    "# remember to reassign to actually update data\n",
    "avg_flipper = avg_flipper.sort_values(ascending=False)\n",
    "\n",
    "#plot as a bar plot\n",
    "avg_flipper.plot(kind = 'bar',\n",
    "                 color = \"darkgreen\",\n",
    "                 title = \"Average flipper length by species\",\n",
    "                 ylabel = \"Flipper length (mm)\",\n",
    "                 rot = 360 # rotation for ticks (were vertical, now horizontal)\n",
    "                \n",
    "                )"
   ]
  },
  {
   "cell_type": "markdown",
   "id": "6d340e39-2abd-466b-8427-d976dc2a89ec",
   "metadata": {},
   "source": [
    "We can also group by combinations of columns.\n",
    "\n",
    "**Example**\n",
    "\n",
    "Suppose we want to know what was the number of penguins in every island on different years. We can use the `count()` method to count the number of non-NA values in each column like this:"
   ]
  },
  {
   "cell_type": "code",
   "execution_count": 28,
   "id": "8dbf5b84-774a-4cc8-bf17-2a81fa7ce124",
   "metadata": {
    "tags": []
   },
   "outputs": [
    {
     "data": {
      "text/plain": [
       "species              344\n",
       "island               344\n",
       "bill_length_mm       342\n",
       "bill_depth_mm        342\n",
       "flipper_length_mm    342\n",
       "body_mass_g          342\n",
       "sex                  333\n",
       "year                 344\n",
       "dtype: int64"
      ]
     },
     "execution_count": 28,
     "metadata": {},
     "output_type": "execute_result"
    }
   ],
   "source": [
    "penguins.count()"
   ]
  },
  {
   "cell_type": "markdown",
   "id": "61c622b0-2c35-4ac3-8e73-086e07bfc8bf",
   "metadata": {},
   "source": [
    "When we group by island and year we get the count of non-NA values for each column divided for each combination of island and year:"
   ]
  },
  {
   "cell_type": "code",
   "execution_count": 29,
   "id": "936e0ad4-1bdc-440b-ab09-5d73f188a2a1",
   "metadata": {
    "tags": []
   },
   "outputs": [
    {
     "data": {
      "text/html": [
       "<div>\n",
       "<style scoped>\n",
       "    .dataframe tbody tr th:only-of-type {\n",
       "        vertical-align: middle;\n",
       "    }\n",
       "\n",
       "    .dataframe tbody tr th {\n",
       "        vertical-align: top;\n",
       "    }\n",
       "\n",
       "    .dataframe thead th {\n",
       "        text-align: right;\n",
       "    }\n",
       "</style>\n",
       "<table border=\"1\" class=\"dataframe\">\n",
       "  <thead>\n",
       "    <tr style=\"text-align: right;\">\n",
       "      <th></th>\n",
       "      <th></th>\n",
       "      <th>species</th>\n",
       "      <th>bill_length_mm</th>\n",
       "      <th>bill_depth_mm</th>\n",
       "      <th>flipper_length_mm</th>\n",
       "      <th>body_mass_g</th>\n",
       "      <th>sex</th>\n",
       "    </tr>\n",
       "    <tr>\n",
       "      <th>island</th>\n",
       "      <th>year</th>\n",
       "      <th></th>\n",
       "      <th></th>\n",
       "      <th></th>\n",
       "      <th></th>\n",
       "      <th></th>\n",
       "      <th></th>\n",
       "    </tr>\n",
       "  </thead>\n",
       "  <tbody>\n",
       "    <tr>\n",
       "      <th rowspan=\"3\" valign=\"top\">Biscoe</th>\n",
       "      <th>2007</th>\n",
       "      <td>44</td>\n",
       "      <td>44</td>\n",
       "      <td>44</td>\n",
       "      <td>44</td>\n",
       "      <td>44</td>\n",
       "      <td>43</td>\n",
       "    </tr>\n",
       "    <tr>\n",
       "      <th>2008</th>\n",
       "      <td>64</td>\n",
       "      <td>64</td>\n",
       "      <td>64</td>\n",
       "      <td>64</td>\n",
       "      <td>64</td>\n",
       "      <td>63</td>\n",
       "    </tr>\n",
       "    <tr>\n",
       "      <th>2009</th>\n",
       "      <td>60</td>\n",
       "      <td>59</td>\n",
       "      <td>59</td>\n",
       "      <td>59</td>\n",
       "      <td>59</td>\n",
       "      <td>57</td>\n",
       "    </tr>\n",
       "    <tr>\n",
       "      <th rowspan=\"3\" valign=\"top\">Dream</th>\n",
       "      <th>2007</th>\n",
       "      <td>46</td>\n",
       "      <td>46</td>\n",
       "      <td>46</td>\n",
       "      <td>46</td>\n",
       "      <td>46</td>\n",
       "      <td>45</td>\n",
       "    </tr>\n",
       "    <tr>\n",
       "      <th>2008</th>\n",
       "      <td>34</td>\n",
       "      <td>34</td>\n",
       "      <td>34</td>\n",
       "      <td>34</td>\n",
       "      <td>34</td>\n",
       "      <td>34</td>\n",
       "    </tr>\n",
       "    <tr>\n",
       "      <th>2009</th>\n",
       "      <td>44</td>\n",
       "      <td>44</td>\n",
       "      <td>44</td>\n",
       "      <td>44</td>\n",
       "      <td>44</td>\n",
       "      <td>44</td>\n",
       "    </tr>\n",
       "    <tr>\n",
       "      <th rowspan=\"3\" valign=\"top\">Torgersen</th>\n",
       "      <th>2007</th>\n",
       "      <td>20</td>\n",
       "      <td>19</td>\n",
       "      <td>19</td>\n",
       "      <td>19</td>\n",
       "      <td>19</td>\n",
       "      <td>15</td>\n",
       "    </tr>\n",
       "    <tr>\n",
       "      <th>2008</th>\n",
       "      <td>16</td>\n",
       "      <td>16</td>\n",
       "      <td>16</td>\n",
       "      <td>16</td>\n",
       "      <td>16</td>\n",
       "      <td>16</td>\n",
       "    </tr>\n",
       "    <tr>\n",
       "      <th>2009</th>\n",
       "      <td>16</td>\n",
       "      <td>16</td>\n",
       "      <td>16</td>\n",
       "      <td>16</td>\n",
       "      <td>16</td>\n",
       "      <td>16</td>\n",
       "    </tr>\n",
       "  </tbody>\n",
       "</table>\n",
       "</div>"
      ],
      "text/plain": [
       "                species  bill_length_mm  bill_depth_mm  flipper_length_mm  \\\n",
       "island    year                                                              \n",
       "Biscoe    2007       44              44             44                 44   \n",
       "          2008       64              64             64                 64   \n",
       "          2009       60              59             59                 59   \n",
       "Dream     2007       46              46             46                 46   \n",
       "          2008       34              34             34                 34   \n",
       "          2009       44              44             44                 44   \n",
       "Torgersen 2007       20              19             19                 19   \n",
       "          2008       16              16             16                 16   \n",
       "          2009       16              16             16                 16   \n",
       "\n",
       "                body_mass_g  sex  \n",
       "island    year                    \n",
       "Biscoe    2007           44   43  \n",
       "          2008           64   63  \n",
       "          2009           59   57  \n",
       "Dream     2007           46   45  \n",
       "          2008           34   34  \n",
       "          2009           44   44  \n",
       "Torgersen 2007           19   15  \n",
       "          2008           16   16  \n",
       "          2009           16   16  "
      ]
     },
     "execution_count": 29,
     "metadata": {},
     "output_type": "execute_result"
    }
   ],
   "source": [
    "penguins.groupby(['island', 'year']).count()"
   ]
  },
  {
   "cell_type": "markdown",
   "id": "fd2e367f-33c3-4ef6-88f6-e889e7ee7453",
   "metadata": {},
   "source": [
    "Let’s say we want to plot the surveyed population per year and island. We could then use a “one liner” to do it in this way:"
   ]
  },
  {
   "cell_type": "code",
   "execution_count": 30,
   "id": "937e98bd-8c22-42ef-be63-0f476a24fb39",
   "metadata": {
    "tags": []
   },
   "outputs": [
    {
     "data": {
      "text/plain": [
       "island     year\n",
       "Torgersen  2008    16\n",
       "           2009    16\n",
       "           2007    20\n",
       "Dream      2008    34\n",
       "Biscoe     2007    44\n",
       "Dream      2009    44\n",
       "           2007    46\n",
       "Biscoe     2009    60\n",
       "           2008    64\n",
       "Name: species, dtype: int64"
      ]
     },
     "execution_count": 30,
     "metadata": {},
     "output_type": "execute_result"
    }
   ],
   "source": [
    "penguins.groupby(['island', 'year']).count().species.sort_values()"
   ]
  },
  {
   "cell_type": "code",
   "execution_count": 36,
   "id": "bdab40db-53b0-41d6-a2c0-34b502fb8ef0",
   "metadata": {
    "tags": []
   },
   "outputs": [
    {
     "data": {
      "text/plain": [
       "<AxesSubplot:title={'center':'Observations per Island per Year'}, ylabel='Island, Year'>"
      ]
     },
     "execution_count": 36,
     "metadata": {},
     "output_type": "execute_result"
    },
    {
     "data": {
      "image/png": "[encoded data removed]",
      "text/plain": [
       "<Figure size 640x480 with 1 Axes>"
      ]
     },
     "metadata": {},
     "output_type": "display_data"
    }
   ],
   "source": [
    "penguins.groupby(['island', 'year']).count().species.sort_values().plot(kind='barh',\n",
    "                                                                        color = \"seagreen\",\n",
    "                                                                        xlabel= 'Island, Year',\n",
    "                                                                        title = \"Observations per Island per Year\")"
   ]
  },
  {
   "cell_type": "markdown",
   "id": "5ec8f28f-6d74-408c-afa6-3c1a42c66b7a",
   "metadata": {},
   "source": [
    "### Check-in\n",
    "1. Use `groupby` and the `max()` method for data frames to calculate the maximum value of penguin’s body mass by year and species.\n",
    "\n",
    "2. Use (1) to display the highest body masses per year and species as a bar plot in descending order."
   ]
  },
  {
   "cell_type": "markdown",
   "id": "5460e6b9-3a50-4906-8b27-9a3dcb2a2cf3",
   "metadata": {},
   "source": [
    "[NCEAS learning hub](https://learning.nceas.ucsb.edu/2023-06-delta/session_11.html#summary-statistics-using-group_by-and-summarize)"
   ]
  }
 ],
 "metadata": {
  "kernelspec": {
   "display_name": "Anaconda 3 (Base)",
   "language": "python",
   "name": "base"
  },
  "language_info": {
   "codemirror_mode": {
    "name": "ipython",
    "version": 3
   },
   "file_extension": ".py",
   "mimetype": "text/x-python",
   "name": "python",
   "nbconvert_exporter": "python",
   "pygments_lexer": "ipython3",
   "version": "3.9.13"
  }
 },
 "nbformat": 4,
 "nbformat_minor": 5
}
