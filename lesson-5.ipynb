{
 "cells": [
  {
   "cell_type": "markdown",
   "id": "5c6fa62a-4b82-4559-902d-c34b54fb1fbf",
   "metadata": {},
   "source": [
    "Data Frame\n"
   ]
  }
 ],
 "metadata": {
  "kernelspec": {
   "display_name": "Anaconda 3 (Base)",
   "language": "python",
   "name": "base"
  },
  "language_info": {
   "codemirror_mode": {
    "name": "ipython",
    "version": 3
   },
   "file_extension": ".py",
   "mimetype": "text/x-python",
   "name": "python",
   "nbconvert_exporter": "python",
   "pygments_lexer": "ipython3",
   "version": "3.9.13"
  }
 },
 "nbformat": 4,
 "nbformat_minor": 5
}
