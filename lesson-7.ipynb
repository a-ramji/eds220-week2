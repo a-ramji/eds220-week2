{
 "cells": [
  {
   "cell_type": "markdown",
   "id": "ad3edc0e-99ae-47c9-a5ee-4058926a07c3",
   "metadata": {},
   "source": [
    "# Basic time series"
   ]
  },
  {
   "cell_type": "markdown",
   "id": "e463417e-9595-4d2c-86dc-35bb357cfeac",
   "metadata": {},
   "source": [
    "# 7.1 Timestamps\n",
    "`pandas` represents an instant in time using the `pandas.Timestamp` class. For example:"
   ]
  },
  {
   "cell_type": "code",
   "execution_count": 3,
   "id": "daa89f99-bf24-4cc9-aa97-05bbcc1d2aca",
   "metadata": {
    "tags": []
   },
   "outputs": [
    {
     "data": {
      "text/plain": [
       "Timestamp('2020-10-18 13:01:15')"
      ]
     },
     "execution_count": 3,
     "metadata": {},
     "output_type": "execute_result"
    }
   ],
   "source": [
    "import pandas as pd\n",
    "\n",
    "# create a timestamp\n",
    "pd.Timestamp(year=2020, month=10, day=18, hour=13, minute=1, second=15)"
   ]
  },
  {
   "cell_type": "markdown",
   "id": "3b82d99c-fbb8-4d1a-8632-c486b60e11a3",
   "metadata": {},
   "source": [
    "When we store multiple Timestamps in a `pd.Series` (for example when we have a column of dates) the data type of the column is set to `datetime64[ns]`:"
   ]
  },
  {
   "cell_type": "code",
   "execution_count": 4,
   "id": "c9a57365-e750-4ff0-8502-2afc5bfebf8b",
   "metadata": {
    "tags": []
   },
   "outputs": [
    {
     "data": {
      "text/plain": [
       "0   2020-10-18\n",
       "1   2020-10-17\n",
       "2   2020-10-16\n",
       "dtype: datetime64[ns]"
      ]
     },
     "execution_count": 4,
     "metadata": {},
     "output_type": "execute_result"
    }
   ],
   "source": [
    "# Notice the dtype of the column is datetime64\n",
    "pd.Series([pd.Timestamp(2020,10,18),\n",
    "          pd.Timestamp(2020,10,17),\n",
    "           pd.Timestamp(2020,10,16)\n",
    "          ])"
   ]
  },
  {
   "cell_type": "markdown",
   "id": "45a0fafb-cf9b-46e0-a647-d74bedc7f6c2",
   "metadata": {},
   "source": [
    "this is enough to get us started!"
   ]
  },
  {
   "cell_type": "markdown",
   "id": "a4be07f4-f883-4a67-97b1-ee7635623581",
   "metadata": {},
   "source": [
    "# 7.2 Data: Precipitation in Boulder, CO\n",
    "To exemplify some of the basic time series functionalities we’ll be using data about hourly precipitation in the county of Boulder, Colorado from 2000 to 2014. In September 2013, an unusual weather pattern led to *some of the most intense precipitation ever recorded in this region*, causing devastating floods throughout the Colorado Front Range. Our goal is to visualize precipitation data in 2013 and identify this unusual weather event.\n",
    "\n",
    "This data was obtained via the [National Oceanic and Atmosperic Administration (NOAA) Climate Data Online service](https://www.ncdc.noaa.gov/cdo-web/). This dataset is a csv and can be acceses at [this link](https://www.ncei.noaa.gov/orders/cdo/3488381.csv). You can [view the full documentation here](https://www.ncei.noaa.gov/pub/data/cdo/documentation/PRECIP_HLY_documentation.pdf). \n",
    "\n",
    "The following is a summary of the column descriptions:\n",
    "\n",
    "- **STATION**: identification number indentifying the station.\n",
    "- **STATION_NAME**: optional field, name identifying the station location.\n",
    "- **DATE**: this is the year of the record (4 digits), followed by month (2 digits), followed by day of the month (2 digits), followed by a space and ending with a time of observation that is a two digit indication of the local time hour, followed by a colon (:) followed by a two digit indication of the minute which for this dataset will always be 00. Note: The subsequent data value will be for the hour ending at the time specified here. Hour 00:00 will be listed as the first hour of each date, however since this data is by definition an accumulation of the previous 60 minutes, it actually occurred on the previous day.\n",
    "- **HPCP**: The amount of precipitation recorded at the station for the hour ending at the time specified for DATE above given in inches. The values 999.99 means the data value is missing. Hours with no precipitation are not shown."
   ]
  },
  {
   "cell_type": "markdown",
   "id": "2183fd85-3020-414c-9a72-5a7c09c3ab1d",
   "metadata": {},
   "source": [
    "# 7.3 Data preparation\n",
    "Let’s start by reading in the data and taking a look at it."
   ]
  },
  {
   "cell_type": "code",
   "execution_count": 6,
   "id": "28b68d79-bc88-4570-a848-7a268a9055c5",
   "metadata": {
    "tags": []
   },
   "outputs": [
    {
     "data": {
      "text/html": [
       "<div>\n",
       "<style scoped>\n",
       "    .dataframe tbody tr th:only-of-type {\n",
       "        vertical-align: middle;\n",
       "    }\n",
       "\n",
       "    .dataframe tbody tr th {\n",
       "        vertical-align: top;\n",
       "    }\n",
       "\n",
       "    .dataframe thead th {\n",
       "        text-align: right;\n",
       "    }\n",
       "</style>\n",
       "<table border=\"1\" class=\"dataframe\">\n",
       "  <thead>\n",
       "    <tr style=\"text-align: right;\">\n",
       "      <th></th>\n",
       "      <th>STATION</th>\n",
       "      <th>STATION_NAME</th>\n",
       "      <th>DATE</th>\n",
       "      <th>HPCP</th>\n",
       "      <th>Measurement Flag</th>\n",
       "      <th>Quality Flag</th>\n",
       "    </tr>\n",
       "  </thead>\n",
       "  <tbody>\n",
       "    <tr>\n",
       "      <th>0</th>\n",
       "      <td>COOP:055881</td>\n",
       "      <td>NEDERLAND 5 NNW CO US</td>\n",
       "      <td>20000101 00:00</td>\n",
       "      <td>999.99</td>\n",
       "      <td>]</td>\n",
       "      <td></td>\n",
       "    </tr>\n",
       "    <tr>\n",
       "      <th>1</th>\n",
       "      <td>COOP:055881</td>\n",
       "      <td>NEDERLAND 5 NNW CO US</td>\n",
       "      <td>20000101 01:00</td>\n",
       "      <td>0.00</td>\n",
       "      <td>g</td>\n",
       "      <td></td>\n",
       "    </tr>\n",
       "    <tr>\n",
       "      <th>2</th>\n",
       "      <td>COOP:055881</td>\n",
       "      <td>NEDERLAND 5 NNW CO US</td>\n",
       "      <td>20000102 20:00</td>\n",
       "      <td>0.00</td>\n",
       "      <td></td>\n",
       "      <td>q</td>\n",
       "    </tr>\n",
       "    <tr>\n",
       "      <th>3</th>\n",
       "      <td>COOP:055881</td>\n",
       "      <td>NEDERLAND 5 NNW CO US</td>\n",
       "      <td>20000103 01:00</td>\n",
       "      <td>0.00</td>\n",
       "      <td></td>\n",
       "      <td>q</td>\n",
       "    </tr>\n",
       "    <tr>\n",
       "      <th>4</th>\n",
       "      <td>COOP:055881</td>\n",
       "      <td>NEDERLAND 5 NNW CO US</td>\n",
       "      <td>20000103 05:00</td>\n",
       "      <td>0.00</td>\n",
       "      <td></td>\n",
       "      <td>q</td>\n",
       "    </tr>\n",
       "  </tbody>\n",
       "</table>\n",
       "</div>"
      ],
      "text/plain": [
       "       STATION           STATION_NAME            DATE    HPCP  \\\n",
       "0  COOP:055881  NEDERLAND 5 NNW CO US  20000101 00:00  999.99   \n",
       "1  COOP:055881  NEDERLAND 5 NNW CO US  20000101 01:00    0.00   \n",
       "2  COOP:055881  NEDERLAND 5 NNW CO US  20000102 20:00    0.00   \n",
       "3  COOP:055881  NEDERLAND 5 NNW CO US  20000103 01:00    0.00   \n",
       "4  COOP:055881  NEDERLAND 5 NNW CO US  20000103 05:00    0.00   \n",
       "\n",
       "  Measurement Flag Quality Flag  \n",
       "0                ]               \n",
       "1                g               \n",
       "2                             q  \n",
       "3                             q  \n",
       "4                             q  "
      ]
     },
     "execution_count": 6,
     "metadata": {},
     "output_type": "execute_result"
    }
   ],
   "source": [
    "# read in data \n",
    "url = 'https://raw.githubusercontent.com/carmengg/eds-220-book/main/data/boulder_colorado_2013_hourly_precipitation.csv'\n",
    "precip = pd.read_csv(url)\n",
    "\n",
    "# check df's head\n",
    "precip.head()"
   ]
  },
  {
   "cell_type": "markdown",
   "id": "e6a760e7-3c08-4da6-bb1d-18a7561a8f46",
   "metadata": {},
   "source": [
    "Let’s make a first attempt at plotting the precipitation:\n",
    "\n"
   ]
  },
  {
   "cell_type": "code",
   "execution_count": 8,
   "id": "57a9f306-9a90-4304-a6d9-0dfa30fa9627",
   "metadata": {
    "tags": []
   },
   "outputs": [
    {
     "data": {
      "text/plain": [
       "<AxesSubplot:>"
      ]
     },
     "execution_count": 8,
     "metadata": {},
     "output_type": "execute_result"
    },
    {
     "data": {
      "image/png": "[encoded data removed]",
      "text/plain": [
       "<Figure size 640x480 with 1 Axes>"
      ]
     },
     "metadata": {},
     "output_type": "display_data"
    }
   ],
   "source": [
    "precip.HPCP.plot()"
   ]
  },
  {
   "cell_type": "markdown",
   "id": "b7b967b9-024a-499a-9372-099ebb4a9d18",
   "metadata": {},
   "source": [
    "There’s a few things going on with this graph:\n",
    "\n",
    "1. There are many jumps close to 1000. This is clearly not right and these are outliers. Looking at the column description we can see 999.99 indicates the HPCP data is missing.\n",
    "\n",
    "2. The x-axis values are given by the index of the dataframe and not relative to time.\n",
    "\n",
    "3. We are only intersted in the precipitation data from 2013, this graph is trying to plot all our data.\n",
    "\n",
    "Let’s fix each one of these issues separately."
   ]
  },
  {
   "cell_type": "markdown",
   "id": "c04b71ae-ba48-4785-94d4-149b32bb833d",
   "metadata": {},
   "source": [
    "# 7.4 Indicate missing data\n",
    "The metadata states the missing values are indicated by the number 999.99. We can use this information to reload the dataframe indicating 999.99 is the missing value. To do this, we add the `na_values` parameter to the `pd.read_csv()` function to indicitate additional values that should be recognized as `NA`:"
   ]
  },
  {
   "cell_type": "code",
   "execution_count": 27,
   "id": "5933acfd-f010-471d-ad95-4707048bc5d6",
   "metadata": {
    "tags": []
   },
   "outputs": [
    {
     "data": {
      "text/html": [
       "<div>\n",
       "<style scoped>\n",
       "    .dataframe tbody tr th:only-of-type {\n",
       "        vertical-align: middle;\n",
       "    }\n",
       "\n",
       "    .dataframe tbody tr th {\n",
       "        vertical-align: top;\n",
       "    }\n",
       "\n",
       "    .dataframe thead th {\n",
       "        text-align: right;\n",
       "    }\n",
       "</style>\n",
       "<table border=\"1\" class=\"dataframe\">\n",
       "  <thead>\n",
       "    <tr style=\"text-align: right;\">\n",
       "      <th></th>\n",
       "      <th>STATION</th>\n",
       "      <th>STATION_NAME</th>\n",
       "      <th>DATE</th>\n",
       "      <th>HPCP</th>\n",
       "      <th>Measurement Flag</th>\n",
       "      <th>Quality Flag</th>\n",
       "    </tr>\n",
       "  </thead>\n",
       "  <tbody>\n",
       "    <tr>\n",
       "      <th>0</th>\n",
       "      <td>COOP:055881</td>\n",
       "      <td>NEDERLAND 5 NNW CO US</td>\n",
       "      <td>20000101 00:00</td>\n",
       "      <td>NaN</td>\n",
       "      <td>]</td>\n",
       "      <td></td>\n",
       "    </tr>\n",
       "    <tr>\n",
       "      <th>1</th>\n",
       "      <td>COOP:055881</td>\n",
       "      <td>NEDERLAND 5 NNW CO US</td>\n",
       "      <td>20000101 01:00</td>\n",
       "      <td>0.0</td>\n",
       "      <td>g</td>\n",
       "      <td></td>\n",
       "    </tr>\n",
       "    <tr>\n",
       "      <th>2</th>\n",
       "      <td>COOP:055881</td>\n",
       "      <td>NEDERLAND 5 NNW CO US</td>\n",
       "      <td>20000102 20:00</td>\n",
       "      <td>0.0</td>\n",
       "      <td></td>\n",
       "      <td>q</td>\n",
       "    </tr>\n",
       "    <tr>\n",
       "      <th>3</th>\n",
       "      <td>COOP:055881</td>\n",
       "      <td>NEDERLAND 5 NNW CO US</td>\n",
       "      <td>20000103 01:00</td>\n",
       "      <td>0.0</td>\n",
       "      <td></td>\n",
       "      <td>q</td>\n",
       "    </tr>\n",
       "    <tr>\n",
       "      <th>4</th>\n",
       "      <td>COOP:055881</td>\n",
       "      <td>NEDERLAND 5 NNW CO US</td>\n",
       "      <td>20000103 05:00</td>\n",
       "      <td>0.0</td>\n",
       "      <td></td>\n",
       "      <td>q</td>\n",
       "    </tr>\n",
       "  </tbody>\n",
       "</table>\n",
       "</div>"
      ],
      "text/plain": [
       "       STATION           STATION_NAME            DATE  HPCP Measurement Flag  \\\n",
       "0  COOP:055881  NEDERLAND 5 NNW CO US  20000101 00:00   NaN                ]   \n",
       "1  COOP:055881  NEDERLAND 5 NNW CO US  20000101 01:00   0.0                g   \n",
       "2  COOP:055881  NEDERLAND 5 NNW CO US  20000102 20:00   0.0                    \n",
       "3  COOP:055881  NEDERLAND 5 NNW CO US  20000103 01:00   0.0                    \n",
       "4  COOP:055881  NEDERLAND 5 NNW CO US  20000103 05:00   0.0                    \n",
       "\n",
       "  Quality Flag  \n",
       "0               \n",
       "1               \n",
       "2            q  \n",
       "3            q  \n",
       "4            q  "
      ]
     },
     "execution_count": 27,
     "metadata": {},
     "output_type": "execute_result"
    }
   ],
   "source": [
    "# read in csv indicating NA values\n",
    "precip = pd.read_csv(url, na_values=[999.99])\n",
    "\n",
    "# check updated df\n",
    "precip.head()"
   ]
  },
  {
   "cell_type": "markdown",
   "id": "de55ec7b-b1c0-475a-a4d8-b008fff760be",
   "metadata": {},
   "source": [
    "**Default NA values**:\n",
    "Check the na_values parameter in the `pd.read_csv()` [documentation](https://pandas.pydata.org/pandas-docs/stable/reference/api/pandas.read_csv.html) to learn more about which values are identified as `NA` by default.\n",
    "\n",
    "We can try making our plot again:\n",
    "\n"
   ]
  },
  {
   "cell_type": "code",
   "execution_count": 28,
   "id": "c714e136-2bb3-457c-be52-5c35b975bb3d",
   "metadata": {
    "tags": []
   },
   "outputs": [
    {
     "data": {
      "text/plain": [
       "<AxesSubplot:title={'center':'Precipitation per Station in Boulder, CO (2000-2014)'}, xlabel='Station ID', ylabel='Precipitation (inches)'>"
      ]
     },
     "execution_count": 28,
     "metadata": {},
     "output_type": "execute_result"
    },
    {
     "data": {
      "image/png": "[encoded data removed]",
      "text/plain": [
       "<Figure size 640x480 with 1 Axes>"
      ]
     },
     "metadata": {},
     "output_type": "display_data"
    }
   ],
   "source": [
    "precip.HPCP.plot(ylabel=\"Precipitation (inches)\",\n",
    "                 title=\"Precipitation per Station in Boulder, CO (2000-2014)\",\n",
    "                 xlabel=\"Station ID\",\n",
    "                 color=\"mediumblue\"\n",
    "                )"
   ]
  },
  {
   "cell_type": "markdown",
   "id": "de9261ff-f776-4338-9e7d-9381c00acad1",
   "metadata": {},
   "source": [
    "This looks much better and we can already see there is something going on close to the end of the time series. We still need to set the index as the time."
   ]
  },
  {
   "cell_type": "markdown",
   "id": "d90eb204-521e-44d2-8c07-284ab8f96f2d",
   "metadata": {},
   "source": [
    "# 7.5 Strings into dates\n",
    "Notice that the DATE column in our dataframe is not of type `datetime`. We can check this using the `dtypes` attribute for dataframes:"
   ]
  },
  {
   "cell_type": "code",
   "execution_count": 29,
   "id": "a58477fe-32fd-4c0d-a0cc-19aa45bb27e8",
   "metadata": {
    "tags": []
   },
   "outputs": [
    {
     "data": {
      "text/plain": [
       "STATION              object\n",
       "STATION_NAME         object\n",
       "DATE                 object\n",
       "HPCP                float64\n",
       "Measurement Flag     object\n",
       "Quality Flag         object\n",
       "dtype: object"
      ]
     },
     "execution_count": 29,
     "metadata": {},
     "output_type": "execute_result"
    }
   ],
   "source": [
    "# check the dtypes of all columns\n",
    "precip.dtypes"
   ]
  },
  {
   "cell_type": "markdown",
   "id": "00791988-d6e0-4981-98b3-6e560556be34",
   "metadata": {},
   "source": [
    "- `DATE` values are currently being stored as \"object\" data types\n",
    "\n",
    "The `object` dtype means that (most likely) all values in that column are strings. We can convert strings to datetime objects using the `to_datetime()` pandas function:\n",
    "\n",
    "- `pd.to_datetime()` input: a `pd.Series` with strings that can be converted to dates\n",
    "- `pd.to_datetime()` output: a `pd.Series` with the strings converted to `datetime` objects\n",
    "\n",
    "\n",
    "Example"
   ]
  },
  {
   "cell_type": "code",
   "execution_count": 30,
   "id": "c716c13e-bc36-429c-849e-4e3e8131b3a7",
   "metadata": {
    "tags": []
   },
   "outputs": [
    {
     "data": {
      "text/plain": [
       "0      2000-01-01 00:00:00\n",
       "1      2000-01-01 01:00:00\n",
       "2      2000-01-02 20:00:00\n",
       "3      2000-01-03 01:00:00\n",
       "4      2000-01-03 05:00:00\n",
       "               ...        \n",
       "9001   2013-12-22 01:00:00\n",
       "9002   2013-12-23 00:00:00\n",
       "9003   2013-12-23 02:00:00\n",
       "9004   2013-12-29 01:00:00\n",
       "9005   2013-12-31 00:00:00\n",
       "Name: DATE, Length: 9006, dtype: datetime64[ns]"
      ]
     },
     "execution_count": 30,
     "metadata": {},
     "output_type": "execute_result"
    }
   ],
   "source": [
    "pd.to_datetime(precip.DATE)"
   ]
  },
  {
   "cell_type": "markdown",
   "id": "6a1f81fc-4daa-4d3d-8121-423160065b8a",
   "metadata": {},
   "source": [
    "We can overwrite the `DATE` column with this output:\n",
    "\n"
   ]
  },
  {
   "cell_type": "code",
   "execution_count": 31,
   "id": "40285af2-9c19-4699-b382-d053e38c2f2c",
   "metadata": {
    "tags": []
   },
   "outputs": [
    {
     "name": "stdout",
     "output_type": "stream",
     "text": [
      "STATION                     object\n",
      "STATION_NAME                object\n",
      "DATE                datetime64[ns]\n",
      "HPCP                       float64\n",
      "Measurement Flag            object\n",
      "Quality Flag                object\n",
      "dtype: object\n"
     ]
    },
    {
     "data": {
      "text/html": [
       "<div>\n",
       "<style scoped>\n",
       "    .dataframe tbody tr th:only-of-type {\n",
       "        vertical-align: middle;\n",
       "    }\n",
       "\n",
       "    .dataframe tbody tr th {\n",
       "        vertical-align: top;\n",
       "    }\n",
       "\n",
       "    .dataframe thead th {\n",
       "        text-align: right;\n",
       "    }\n",
       "</style>\n",
       "<table border=\"1\" class=\"dataframe\">\n",
       "  <thead>\n",
       "    <tr style=\"text-align: right;\">\n",
       "      <th></th>\n",
       "      <th>STATION</th>\n",
       "      <th>STATION_NAME</th>\n",
       "      <th>DATE</th>\n",
       "      <th>HPCP</th>\n",
       "      <th>Measurement Flag</th>\n",
       "      <th>Quality Flag</th>\n",
       "    </tr>\n",
       "  </thead>\n",
       "  <tbody>\n",
       "    <tr>\n",
       "      <th>0</th>\n",
       "      <td>COOP:055881</td>\n",
       "      <td>NEDERLAND 5 NNW CO US</td>\n",
       "      <td>2000-01-01 00:00:00</td>\n",
       "      <td>NaN</td>\n",
       "      <td>]</td>\n",
       "      <td></td>\n",
       "    </tr>\n",
       "    <tr>\n",
       "      <th>1</th>\n",
       "      <td>COOP:055881</td>\n",
       "      <td>NEDERLAND 5 NNW CO US</td>\n",
       "      <td>2000-01-01 01:00:00</td>\n",
       "      <td>0.0</td>\n",
       "      <td>g</td>\n",
       "      <td></td>\n",
       "    </tr>\n",
       "    <tr>\n",
       "      <th>2</th>\n",
       "      <td>COOP:055881</td>\n",
       "      <td>NEDERLAND 5 NNW CO US</td>\n",
       "      <td>2000-01-02 20:00:00</td>\n",
       "      <td>0.0</td>\n",
       "      <td></td>\n",
       "      <td>q</td>\n",
       "    </tr>\n",
       "    <tr>\n",
       "      <th>3</th>\n",
       "      <td>COOP:055881</td>\n",
       "      <td>NEDERLAND 5 NNW CO US</td>\n",
       "      <td>2000-01-03 01:00:00</td>\n",
       "      <td>0.0</td>\n",
       "      <td></td>\n",
       "      <td>q</td>\n",
       "    </tr>\n",
       "    <tr>\n",
       "      <th>4</th>\n",
       "      <td>COOP:055881</td>\n",
       "      <td>NEDERLAND 5 NNW CO US</td>\n",
       "      <td>2000-01-03 05:00:00</td>\n",
       "      <td>0.0</td>\n",
       "      <td></td>\n",
       "      <td>q</td>\n",
       "    </tr>\n",
       "  </tbody>\n",
       "</table>\n",
       "</div>"
      ],
      "text/plain": [
       "       STATION           STATION_NAME                DATE  HPCP  \\\n",
       "0  COOP:055881  NEDERLAND 5 NNW CO US 2000-01-01 00:00:00   NaN   \n",
       "1  COOP:055881  NEDERLAND 5 NNW CO US 2000-01-01 01:00:00   0.0   \n",
       "2  COOP:055881  NEDERLAND 5 NNW CO US 2000-01-02 20:00:00   0.0   \n",
       "3  COOP:055881  NEDERLAND 5 NNW CO US 2000-01-03 01:00:00   0.0   \n",
       "4  COOP:055881  NEDERLAND 5 NNW CO US 2000-01-03 05:00:00   0.0   \n",
       "\n",
       "  Measurement Flag Quality Flag  \n",
       "0                ]               \n",
       "1                g               \n",
       "2                             q  \n",
       "3                             q  \n",
       "4                             q  "
      ]
     },
     "execution_count": 31,
     "metadata": {},
     "output_type": "execute_result"
    }
   ],
   "source": [
    "# convert DATE column from string to timestamps\n",
    "precip.DATE = pd.to_datetime(precip.DATE)\n",
    "\n",
    "# check column data type is updated\n",
    "print(precip.dtypes)\n",
    "\n",
    "# check new values\n",
    "precip.head()"
   ]
  },
  {
   "cell_type": "markdown",
   "id": "0638a2ad-40bb-4b51-94a2-a3a49b4ce82a",
   "metadata": {},
   "source": [
    "And we can make another try at plotting our precipitation data:"
   ]
  },
  {
   "cell_type": "code",
   "execution_count": 35,
   "id": "fe4f07b6-af1b-4245-af17-0b9391a08e49",
   "metadata": {
    "tags": []
   },
   "outputs": [
    {
     "data": {
      "text/plain": [
       "<AxesSubplot:xlabel='Date', ylabel='Precipitation (inches)'>"
      ]
     },
     "execution_count": 35,
     "metadata": {},
     "output_type": "execute_result"
    },
    {
     "data": {
      "image/png": "[encoded data removed]",
      "text/plain": [
       "<Figure size 640x480 with 1 Axes>"
      ]
     },
     "metadata": {},
     "output_type": "display_data"
    }
   ],
   "source": [
    "precip.plot(x='DATE',\n",
    "            y='HPCP',\n",
    "            xlabel=\"Date\",\n",
    "            ylabel=\"Precipitation (inches)\",\n",
    "            color=\"mediumblue\"\n",
    "           )"
   ]
  },
  {
   "cell_type": "markdown",
   "id": "fcfc1420-c8bc-4944-8f1d-4aa3d2d10c0d",
   "metadata": {},
   "source": [
    "# 7.6 Timestamp index\n",
    "At its core, we have time series data if our data frame is indexed by moments in time. Using our DATE column as the index will allows us to do many operations with respect to time, including subsetting and resampling.\n",
    "\n",
    "Updating the index of a dataframe is simple, we use the `set_index()` method. It’s general syntax is\n",
    "\n",
    "```\n",
    "df = df.set_index(new_index)\n",
    "```\n",
    "\n",
    "\n",
    "where `new_index` is:\n",
    "\n",
    "- the name of the column (string) we want to set as index, or\n",
    "- if our new index is not a column in the dataframe, an array or `pd.Series` of the same length as our data frame (we need one index per row!).\n",
    "\n",
    "Notice that `set_index` does not modify the data frame in place.\n",
    "\n",
    "**Example**\n",
    "\n",
    "In our precipitation data this is:"
   ]
  },
  {
   "cell_type": "code",
   "execution_count": 40,
   "id": "f2ede5cf-74c3-47e0-befb-b19eaf1cdda5",
   "metadata": {
    "tags": []
   },
   "outputs": [
    {
     "ename": "KeyError",
     "evalue": "\"None of ['DATE'] are in the columns\"",
     "output_type": "error",
     "traceback": [
      "\u001b[0;31m---------------------------------------------------------------------------\u001b[0m",
      "\u001b[0;31mKeyError\u001b[0m                                  Traceback (most recent call last)",
      "\u001b[0;32m/tmp/ipykernel_743197/1969127096.py\u001b[0m in \u001b[0;36m<module>\u001b[0;34m\u001b[0m\n\u001b[1;32m      1\u001b[0m \u001b[0;31m# set DATE column as index\u001b[0m\u001b[0;34m\u001b[0m\u001b[0;34m\u001b[0m\u001b[0m\n\u001b[0;32m----> 2\u001b[0;31m \u001b[0mprecip\u001b[0m \u001b[0;34m=\u001b[0m \u001b[0mprecip\u001b[0m\u001b[0;34m.\u001b[0m\u001b[0mset_index\u001b[0m\u001b[0;34m(\u001b[0m\u001b[0;34m'DATE'\u001b[0m\u001b[0;34m)\u001b[0m\u001b[0;34m\u001b[0m\u001b[0;34m\u001b[0m\u001b[0m\n\u001b[0m\u001b[1;32m      3\u001b[0m \u001b[0;31m# note: you can only run this once, because after that, the 'DATE' column is gone\u001b[0m\u001b[0;34m\u001b[0m\u001b[0;34m\u001b[0m\u001b[0m\n",
      "\u001b[0;32m/opt/anaconda3/lib/python3.9/site-packages/pandas/util/_decorators.py\u001b[0m in \u001b[0;36mwrapper\u001b[0;34m(*args, **kwargs)\u001b[0m\n\u001b[1;32m    309\u001b[0m                     \u001b[0mstacklevel\u001b[0m\u001b[0;34m=\u001b[0m\u001b[0mstacklevel\u001b[0m\u001b[0;34m,\u001b[0m\u001b[0;34m\u001b[0m\u001b[0;34m\u001b[0m\u001b[0m\n\u001b[1;32m    310\u001b[0m                 )\n\u001b[0;32m--> 311\u001b[0;31m             \u001b[0;32mreturn\u001b[0m \u001b[0mfunc\u001b[0m\u001b[0;34m(\u001b[0m\u001b[0;34m*\u001b[0m\u001b[0margs\u001b[0m\u001b[0;34m,\u001b[0m \u001b[0;34m**\u001b[0m\u001b[0mkwargs\u001b[0m\u001b[0;34m)\u001b[0m\u001b[0;34m\u001b[0m\u001b[0;34m\u001b[0m\u001b[0m\n\u001b[0m\u001b[1;32m    312\u001b[0m \u001b[0;34m\u001b[0m\u001b[0m\n\u001b[1;32m    313\u001b[0m         \u001b[0;32mreturn\u001b[0m \u001b[0mwrapper\u001b[0m\u001b[0;34m\u001b[0m\u001b[0;34m\u001b[0m\u001b[0m\n",
      "\u001b[0;32m/opt/anaconda3/lib/python3.9/site-packages/pandas/core/frame.py\u001b[0m in \u001b[0;36mset_index\u001b[0;34m(self, keys, drop, append, inplace, verify_integrity)\u001b[0m\n\u001b[1;32m   5501\u001b[0m \u001b[0;34m\u001b[0m\u001b[0m\n\u001b[1;32m   5502\u001b[0m         \u001b[0;32mif\u001b[0m \u001b[0mmissing\u001b[0m\u001b[0;34m:\u001b[0m\u001b[0;34m\u001b[0m\u001b[0;34m\u001b[0m\u001b[0m\n\u001b[0;32m-> 5503\u001b[0;31m             \u001b[0;32mraise\u001b[0m \u001b[0mKeyError\u001b[0m\u001b[0;34m(\u001b[0m\u001b[0;34mf\"None of {missing} are in the columns\"\u001b[0m\u001b[0;34m)\u001b[0m\u001b[0;34m\u001b[0m\u001b[0;34m\u001b[0m\u001b[0m\n\u001b[0m\u001b[1;32m   5504\u001b[0m \u001b[0;34m\u001b[0m\u001b[0m\n\u001b[1;32m   5505\u001b[0m         \u001b[0;32mif\u001b[0m \u001b[0minplace\u001b[0m\u001b[0;34m:\u001b[0m\u001b[0;34m\u001b[0m\u001b[0;34m\u001b[0m\u001b[0m\n",
      "\u001b[0;31mKeyError\u001b[0m: \"None of ['DATE'] are in the columns\""
     ]
    }
   ],
   "source": [
    "# set DATE column as index\n",
    "precip = precip.set_index('DATE')\n",
    "# note: you can only run this once, because after that, the 'DATE' column is gone"
   ]
  },
  {
   "cell_type": "code",
   "execution_count": 41,
   "id": "e1ac6fca-64ac-4c74-82d1-594f86de06e4",
   "metadata": {
    "tags": []
   },
   "outputs": [
    {
     "data": {
      "text/html": [
       "<div>\n",
       "<style scoped>\n",
       "    .dataframe tbody tr th:only-of-type {\n",
       "        vertical-align: middle;\n",
       "    }\n",
       "\n",
       "    .dataframe tbody tr th {\n",
       "        vertical-align: top;\n",
       "    }\n",
       "\n",
       "    .dataframe thead th {\n",
       "        text-align: right;\n",
       "    }\n",
       "</style>\n",
       "<table border=\"1\" class=\"dataframe\">\n",
       "  <thead>\n",
       "    <tr style=\"text-align: right;\">\n",
       "      <th></th>\n",
       "      <th>STATION</th>\n",
       "      <th>STATION_NAME</th>\n",
       "      <th>HPCP</th>\n",
       "      <th>Measurement Flag</th>\n",
       "      <th>Quality Flag</th>\n",
       "    </tr>\n",
       "    <tr>\n",
       "      <th>DATE</th>\n",
       "      <th></th>\n",
       "      <th></th>\n",
       "      <th></th>\n",
       "      <th></th>\n",
       "      <th></th>\n",
       "    </tr>\n",
       "  </thead>\n",
       "  <tbody>\n",
       "    <tr>\n",
       "      <th>2000-01-01 00:00:00</th>\n",
       "      <td>COOP:055881</td>\n",
       "      <td>NEDERLAND 5 NNW CO US</td>\n",
       "      <td>NaN</td>\n",
       "      <td>]</td>\n",
       "      <td></td>\n",
       "    </tr>\n",
       "    <tr>\n",
       "      <th>2000-01-01 01:00:00</th>\n",
       "      <td>COOP:055881</td>\n",
       "      <td>NEDERLAND 5 NNW CO US</td>\n",
       "      <td>0.0</td>\n",
       "      <td>g</td>\n",
       "      <td></td>\n",
       "    </tr>\n",
       "    <tr>\n",
       "      <th>2000-01-02 20:00:00</th>\n",
       "      <td>COOP:055881</td>\n",
       "      <td>NEDERLAND 5 NNW CO US</td>\n",
       "      <td>0.0</td>\n",
       "      <td></td>\n",
       "      <td>q</td>\n",
       "    </tr>\n",
       "    <tr>\n",
       "      <th>2000-01-03 01:00:00</th>\n",
       "      <td>COOP:055881</td>\n",
       "      <td>NEDERLAND 5 NNW CO US</td>\n",
       "      <td>0.0</td>\n",
       "      <td></td>\n",
       "      <td>q</td>\n",
       "    </tr>\n",
       "    <tr>\n",
       "      <th>2000-01-03 05:00:00</th>\n",
       "      <td>COOP:055881</td>\n",
       "      <td>NEDERLAND 5 NNW CO US</td>\n",
       "      <td>0.0</td>\n",
       "      <td></td>\n",
       "      <td>q</td>\n",
       "    </tr>\n",
       "  </tbody>\n",
       "</table>\n",
       "</div>"
      ],
      "text/plain": [
       "                         STATION           STATION_NAME  HPCP  \\\n",
       "DATE                                                            \n",
       "2000-01-01 00:00:00  COOP:055881  NEDERLAND 5 NNW CO US   NaN   \n",
       "2000-01-01 01:00:00  COOP:055881  NEDERLAND 5 NNW CO US   0.0   \n",
       "2000-01-02 20:00:00  COOP:055881  NEDERLAND 5 NNW CO US   0.0   \n",
       "2000-01-03 01:00:00  COOP:055881  NEDERLAND 5 NNW CO US   0.0   \n",
       "2000-01-03 05:00:00  COOP:055881  NEDERLAND 5 NNW CO US   0.0   \n",
       "\n",
       "                    Measurement Flag Quality Flag  \n",
       "DATE                                               \n",
       "2000-01-01 00:00:00                ]               \n",
       "2000-01-01 01:00:00                g               \n",
       "2000-01-02 20:00:00                             q  \n",
       "2000-01-03 01:00:00                             q  \n",
       "2000-01-03 05:00:00                             q  "
      ]
     },
     "execution_count": 41,
     "metadata": {},
     "output_type": "execute_result"
    }
   ],
   "source": [
    "# check new index\n",
    "precip.head()"
   ]
  },
  {
   "cell_type": "markdown",
   "id": "5acacb69-1f47-46b7-8ed3-6eaa58b32cf4",
   "metadata": {},
   "source": [
    "Since we know the default behaviour of `plot()` is to use the index as the x-axis and make a line plot for each numeric column, we can simplify our plot making like this:"
   ]
  },
  {
   "cell_type": "code",
   "execution_count": 43,
   "id": "03fefe03-5398-4f72-b183-4e8f1aba0240",
   "metadata": {
    "tags": []
   },
   "outputs": [
    {
     "data": {
      "text/plain": [
       "<AxesSubplot:xlabel='Date', ylabel='Precipitation (inches)'>"
      ]
     },
     "execution_count": 43,
     "metadata": {},
     "output_type": "execute_result"
    },
    {
     "data": {
      "image/png": "[encoded data removed]",
      "text/plain": [
       "<Figure size 640x480 with 1 Axes>"
      ]
     },
     "metadata": {},
     "output_type": "display_data"
    }
   ],
   "source": [
    "precip.plot(color = \"mediumblue\",\n",
    "            xlabel=\"Date\",\n",
    "           ylabel=\"Precipitation (inches)\")"
   ]
  },
  {
   "cell_type": "markdown",
   "id": "0bebee1b-3a6d-4f46-92a1-43b4a85997a3",
   "metadata": {},
   "source": [
    "# 7.7 Subsetting by date\n",
    "`pandas` has great functionality to subset a dataframe when using a time index. These are some examples:"
   ]
  },
  {
   "cell_type": "code",
   "execution_count": 45,
   "id": "e187c455-8161-4350-a03c-1abd8d7012ee",
   "metadata": {
    "tags": []
   },
   "outputs": [
    {
     "data": {
      "text/html": [
       "<div>\n",
       "<style scoped>\n",
       "    .dataframe tbody tr th:only-of-type {\n",
       "        vertical-align: middle;\n",
       "    }\n",
       "\n",
       "    .dataframe tbody tr th {\n",
       "        vertical-align: top;\n",
       "    }\n",
       "\n",
       "    .dataframe thead th {\n",
       "        text-align: right;\n",
       "    }\n",
       "</style>\n",
       "<table border=\"1\" class=\"dataframe\">\n",
       "  <thead>\n",
       "    <tr style=\"text-align: right;\">\n",
       "      <th></th>\n",
       "      <th>STATION</th>\n",
       "      <th>STATION_NAME</th>\n",
       "      <th>HPCP</th>\n",
       "      <th>Measurement Flag</th>\n",
       "      <th>Quality Flag</th>\n",
       "    </tr>\n",
       "    <tr>\n",
       "      <th>DATE</th>\n",
       "      <th></th>\n",
       "      <th></th>\n",
       "      <th></th>\n",
       "      <th></th>\n",
       "      <th></th>\n",
       "    </tr>\n",
       "  </thead>\n",
       "  <tbody>\n",
       "    <tr>\n",
       "      <th>2013-09-01 00:00:00</th>\n",
       "      <td>COOP:055881</td>\n",
       "      <td>NEDERLAND 5 NNW CO US</td>\n",
       "      <td>NaN</td>\n",
       "      <td>]</td>\n",
       "      <td></td>\n",
       "    </tr>\n",
       "    <tr>\n",
       "      <th>2013-09-01 01:00:00</th>\n",
       "      <td>COOP:055881</td>\n",
       "      <td>NEDERLAND 5 NNW CO US</td>\n",
       "      <td>NaN</td>\n",
       "      <td>[</td>\n",
       "      <td></td>\n",
       "    </tr>\n",
       "    <tr>\n",
       "      <th>2013-09-01 00:00:00</th>\n",
       "      <td>COOP:050183</td>\n",
       "      <td>ALLENSPARK 2 SE CO US</td>\n",
       "      <td>NaN</td>\n",
       "      <td>]</td>\n",
       "      <td></td>\n",
       "    </tr>\n",
       "    <tr>\n",
       "      <th>2013-09-01 01:00:00</th>\n",
       "      <td>COOP:050183</td>\n",
       "      <td>ALLENSPARK 2 SE CO US</td>\n",
       "      <td>NaN</td>\n",
       "      <td>[</td>\n",
       "      <td></td>\n",
       "    </tr>\n",
       "    <tr>\n",
       "      <th>2013-09-01 00:00:00</th>\n",
       "      <td>COOP:055121</td>\n",
       "      <td>LONGMONT 6 NW CO US</td>\n",
       "      <td>NaN</td>\n",
       "      <td>}</td>\n",
       "      <td></td>\n",
       "    </tr>\n",
       "    <tr>\n",
       "      <th>...</th>\n",
       "      <td>...</td>\n",
       "      <td>...</td>\n",
       "      <td>...</td>\n",
       "      <td>...</td>\n",
       "      <td>...</td>\n",
       "    </tr>\n",
       "    <tr>\n",
       "      <th>2013-09-23 02:00:00</th>\n",
       "      <td>COOP:050843</td>\n",
       "      <td>BOULDER 2 CO US</td>\n",
       "      <td>0.2</td>\n",
       "      <td></td>\n",
       "      <td></td>\n",
       "    </tr>\n",
       "    <tr>\n",
       "      <th>2013-09-27 10:00:00</th>\n",
       "      <td>COOP:050843</td>\n",
       "      <td>BOULDER 2 CO US</td>\n",
       "      <td>0.1</td>\n",
       "      <td></td>\n",
       "      <td></td>\n",
       "    </tr>\n",
       "    <tr>\n",
       "      <th>2013-09-27 15:00:00</th>\n",
       "      <td>COOP:050843</td>\n",
       "      <td>BOULDER 2 CO US</td>\n",
       "      <td>0.1</td>\n",
       "      <td></td>\n",
       "      <td></td>\n",
       "    </tr>\n",
       "    <tr>\n",
       "      <th>2013-09-27 17:00:00</th>\n",
       "      <td>COOP:050843</td>\n",
       "      <td>BOULDER 2 CO US</td>\n",
       "      <td>0.1</td>\n",
       "      <td></td>\n",
       "      <td></td>\n",
       "    </tr>\n",
       "    <tr>\n",
       "      <th>2013-09-27 18:00:00</th>\n",
       "      <td>COOP:050843</td>\n",
       "      <td>BOULDER 2 CO US</td>\n",
       "      <td>0.1</td>\n",
       "      <td></td>\n",
       "      <td></td>\n",
       "    </tr>\n",
       "  </tbody>\n",
       "</table>\n",
       "<p>128 rows × 5 columns</p>\n",
       "</div>"
      ],
      "text/plain": [
       "                         STATION           STATION_NAME  HPCP  \\\n",
       "DATE                                                            \n",
       "2013-09-01 00:00:00  COOP:055881  NEDERLAND 5 NNW CO US   NaN   \n",
       "2013-09-01 01:00:00  COOP:055881  NEDERLAND 5 NNW CO US   NaN   \n",
       "2013-09-01 00:00:00  COOP:050183  ALLENSPARK 2 SE CO US   NaN   \n",
       "2013-09-01 01:00:00  COOP:050183  ALLENSPARK 2 SE CO US   NaN   \n",
       "2013-09-01 00:00:00  COOP:055121    LONGMONT 6 NW CO US   NaN   \n",
       "...                          ...                    ...   ...   \n",
       "2013-09-23 02:00:00  COOP:050843        BOULDER 2 CO US   0.2   \n",
       "2013-09-27 10:00:00  COOP:050843        BOULDER 2 CO US   0.1   \n",
       "2013-09-27 15:00:00  COOP:050843        BOULDER 2 CO US   0.1   \n",
       "2013-09-27 17:00:00  COOP:050843        BOULDER 2 CO US   0.1   \n",
       "2013-09-27 18:00:00  COOP:050843        BOULDER 2 CO US   0.1   \n",
       "\n",
       "                    Measurement Flag Quality Flag  \n",
       "DATE                                               \n",
       "2013-09-01 00:00:00                ]               \n",
       "2013-09-01 01:00:00                [               \n",
       "2013-09-01 00:00:00                ]               \n",
       "2013-09-01 01:00:00                [               \n",
       "2013-09-01 00:00:00                }               \n",
       "...                              ...          ...  \n",
       "2013-09-23 02:00:00                                \n",
       "2013-09-27 10:00:00                                \n",
       "2013-09-27 15:00:00                                \n",
       "2013-09-27 17:00:00                                \n",
       "2013-09-27 18:00:00                                \n",
       "\n",
       "[128 rows x 5 columns]"
      ]
     },
     "execution_count": 45,
     "metadata": {},
     "output_type": "execute_result"
    }
   ],
   "source": [
    "# select data from a given month and year \n",
    "# use loc['year-month']\n",
    "\n",
    "precip.loc['2013-09']\n",
    "# output returns subset (view) of our dataframe of records during September, 2013"
   ]
  },
  {
   "cell_type": "code",
   "execution_count": 46,
   "id": "eec2508d-678c-4c88-9980-df40add2dcb7",
   "metadata": {
    "tags": []
   },
   "outputs": [
    {
     "data": {
      "text/html": [
       "<div>\n",
       "<style scoped>\n",
       "    .dataframe tbody tr th:only-of-type {\n",
       "        vertical-align: middle;\n",
       "    }\n",
       "\n",
       "    .dataframe tbody tr th {\n",
       "        vertical-align: top;\n",
       "    }\n",
       "\n",
       "    .dataframe thead th {\n",
       "        text-align: right;\n",
       "    }\n",
       "</style>\n",
       "<table border=\"1\" class=\"dataframe\">\n",
       "  <thead>\n",
       "    <tr style=\"text-align: right;\">\n",
       "      <th></th>\n",
       "      <th>STATION</th>\n",
       "      <th>STATION_NAME</th>\n",
       "      <th>HPCP</th>\n",
       "      <th>Measurement Flag</th>\n",
       "      <th>Quality Flag</th>\n",
       "    </tr>\n",
       "    <tr>\n",
       "      <th>DATE</th>\n",
       "      <th></th>\n",
       "      <th></th>\n",
       "      <th></th>\n",
       "      <th></th>\n",
       "      <th></th>\n",
       "    </tr>\n",
       "  </thead>\n",
       "  <tbody>\n",
       "    <tr>\n",
       "      <th>2013-01-01 01:00:00</th>\n",
       "      <td>COOP:055881</td>\n",
       "      <td>NEDERLAND 5 NNW CO US</td>\n",
       "      <td>0.0</td>\n",
       "      <td>g</td>\n",
       "      <td></td>\n",
       "    </tr>\n",
       "    <tr>\n",
       "      <th>2013-01-10 02:00:00</th>\n",
       "      <td>COOP:055881</td>\n",
       "      <td>NEDERLAND 5 NNW CO US</td>\n",
       "      <td>NaN</td>\n",
       "      <td>[</td>\n",
       "      <td></td>\n",
       "    </tr>\n",
       "    <tr>\n",
       "      <th>2013-01-13 00:00:00</th>\n",
       "      <td>COOP:055881</td>\n",
       "      <td>NEDERLAND 5 NNW CO US</td>\n",
       "      <td>NaN</td>\n",
       "      <td>]</td>\n",
       "      <td></td>\n",
       "    </tr>\n",
       "    <tr>\n",
       "      <th>2013-01-26 20:00:00</th>\n",
       "      <td>COOP:055881</td>\n",
       "      <td>NEDERLAND 5 NNW CO US</td>\n",
       "      <td>0.1</td>\n",
       "      <td></td>\n",
       "      <td></td>\n",
       "    </tr>\n",
       "    <tr>\n",
       "      <th>2013-01-28 23:00:00</th>\n",
       "      <td>COOP:055881</td>\n",
       "      <td>NEDERLAND 5 NNW CO US</td>\n",
       "      <td>0.1</td>\n",
       "      <td></td>\n",
       "      <td></td>\n",
       "    </tr>\n",
       "    <tr>\n",
       "      <th>...</th>\n",
       "      <td>...</td>\n",
       "      <td>...</td>\n",
       "      <td>...</td>\n",
       "      <td>...</td>\n",
       "      <td>...</td>\n",
       "    </tr>\n",
       "    <tr>\n",
       "      <th>2013-12-22 01:00:00</th>\n",
       "      <td>COOP:050843</td>\n",
       "      <td>BOULDER 2 CO US</td>\n",
       "      <td>NaN</td>\n",
       "      <td>[</td>\n",
       "      <td></td>\n",
       "    </tr>\n",
       "    <tr>\n",
       "      <th>2013-12-23 00:00:00</th>\n",
       "      <td>COOP:050843</td>\n",
       "      <td>BOULDER 2 CO US</td>\n",
       "      <td>NaN</td>\n",
       "      <td>]</td>\n",
       "      <td></td>\n",
       "    </tr>\n",
       "    <tr>\n",
       "      <th>2013-12-23 02:00:00</th>\n",
       "      <td>COOP:050843</td>\n",
       "      <td>BOULDER 2 CO US</td>\n",
       "      <td>0.1</td>\n",
       "      <td></td>\n",
       "      <td></td>\n",
       "    </tr>\n",
       "    <tr>\n",
       "      <th>2013-12-29 01:00:00</th>\n",
       "      <td>COOP:050843</td>\n",
       "      <td>BOULDER 2 CO US</td>\n",
       "      <td>NaN</td>\n",
       "      <td>[</td>\n",
       "      <td></td>\n",
       "    </tr>\n",
       "    <tr>\n",
       "      <th>2013-12-31 00:00:00</th>\n",
       "      <td>COOP:050843</td>\n",
       "      <td>BOULDER 2 CO US</td>\n",
       "      <td>NaN</td>\n",
       "      <td>]</td>\n",
       "      <td></td>\n",
       "    </tr>\n",
       "  </tbody>\n",
       "</table>\n",
       "<p>662 rows × 5 columns</p>\n",
       "</div>"
      ],
      "text/plain": [
       "                         STATION           STATION_NAME  HPCP  \\\n",
       "DATE                                                            \n",
       "2013-01-01 01:00:00  COOP:055881  NEDERLAND 5 NNW CO US   0.0   \n",
       "2013-01-10 02:00:00  COOP:055881  NEDERLAND 5 NNW CO US   NaN   \n",
       "2013-01-13 00:00:00  COOP:055881  NEDERLAND 5 NNW CO US   NaN   \n",
       "2013-01-26 20:00:00  COOP:055881  NEDERLAND 5 NNW CO US   0.1   \n",
       "2013-01-28 23:00:00  COOP:055881  NEDERLAND 5 NNW CO US   0.1   \n",
       "...                          ...                    ...   ...   \n",
       "2013-12-22 01:00:00  COOP:050843        BOULDER 2 CO US   NaN   \n",
       "2013-12-23 00:00:00  COOP:050843        BOULDER 2 CO US   NaN   \n",
       "2013-12-23 02:00:00  COOP:050843        BOULDER 2 CO US   0.1   \n",
       "2013-12-29 01:00:00  COOP:050843        BOULDER 2 CO US   NaN   \n",
       "2013-12-31 00:00:00  COOP:050843        BOULDER 2 CO US   NaN   \n",
       "\n",
       "                    Measurement Flag Quality Flag  \n",
       "DATE                                               \n",
       "2013-01-01 01:00:00                g               \n",
       "2013-01-10 02:00:00                [               \n",
       "2013-01-13 00:00:00                ]               \n",
       "2013-01-26 20:00:00                                \n",
       "2013-01-28 23:00:00                                \n",
       "...                              ...          ...  \n",
       "2013-12-22 01:00:00                [               \n",
       "2013-12-23 00:00:00                ]               \n",
       "2013-12-23 02:00:00                                \n",
       "2013-12-29 01:00:00                [               \n",
       "2013-12-31 00:00:00                ]               \n",
       "\n",
       "[662 rows x 5 columns]"
      ]
     },
     "execution_count": 46,
     "metadata": {},
     "output_type": "execute_result"
    }
   ],
   "source": [
    "# select data from a given year\n",
    "# use loc['year']\n",
    "precip.loc['2013']"
   ]
  },
  {
   "cell_type": "markdown",
   "id": "e0fc47c1-c027-4fc4-b327-104572d9c76b",
   "metadata": {},
   "source": [
    "We can use this selection to plot data as usual. Notice we have a lot of gaps due to missing data."
   ]
  },
  {
   "cell_type": "code",
   "execution_count": 49,
   "id": "c35179db-6efc-4d56-bab4-86d87a50607b",
   "metadata": {
    "tags": []
   },
   "outputs": [
    {
     "data": {
      "text/plain": [
       "<AxesSubplot:xlabel='Date', ylabel='Precipitation(inches)'>"
      ]
     },
     "execution_count": 49,
     "metadata": {},
     "output_type": "execute_result"
    },
    {
     "data": {
      "image/png": "[encoded data removed]",
      "text/plain": [
       "<Figure size 640x480 with 1 Axes>"
      ]
     },
     "metadata": {},
     "output_type": "display_data"
    }
   ],
   "source": [
    "precip.loc['2013'].plot(xlabel=\"Date\",\n",
    "                       ylabel=\"Precipitation(inches)\",\n",
    "                       color='mediumblue')\n",
    "\n",
    "# naturally tilted x-axis labels to be more legible! very cool"
   ]
  },
  {
   "cell_type": "markdown",
   "id": "90d02a52-2194-4156-9c58-bfce95080765",
   "metadata": {},
   "source": [
    "# 7.8 Resample\n",
    "Resampling a time series means converting a time series from one frequency to another. For example, monthly to yearly (downsampling) or weekly to daily (upsampling). We can resample with the `resample()` method. The simplest use is to call\n",
    "\n",
    "```\n",
    "df.resample(new_frequency).aggregator_function()\n",
    "\n",
    "```\n",
    "\n",
    "where: \n",
    "- `new_frequency` is a string representing the new frequence to resample the data, for example 'D' for day, `w` for week, `M` for month, `Y` for year, and \n",
    "- `aggregator_function()` is the function we will use to aggregate the data into the new frequence. For example, `max()`, `min()`, `sum()` or `average()`.\n",
    "\n",
    "`resample()` works similarly to `groupby()` in the sense that you need to specify a way to aggregate the data to get any output.\n"
   ]
  },
  {
   "cell_type": "markdown",
   "id": "b7ca3e21-4f7e-4095-9023-6a31a5aab4e7",
   "metadata": {},
   "source": [
    "**Example**\n",
    "\n",
    "Our 2013 precipitation data has hourly frequency and we want to resample it to daily frequency.\n",
    "\n"
   ]
  },
  {
   "cell_type": "code",
   "execution_count": 51,
   "id": "7936fd1e-bec5-45cc-8e06-cbdb1d67917d",
   "metadata": {
    "tags": []
   },
   "outputs": [
    {
     "data": {
      "text/plain": [
       "<pandas.core.resample.DatetimeIndexResampler object at 0x7f51974ed6d0>"
      ]
     },
     "execution_count": 51,
     "metadata": {},
     "output_type": "execute_result"
    }
   ],
   "source": [
    "# resample 2013 hourly data to daily frequency\n",
    "# nothing happens\n",
    "precip.loc['2013'].resample('D')"
   ]
  },
  {
   "cell_type": "markdown",
   "id": "369e94e2-c27b-4048-8a74-f61acf2c35e8",
   "metadata": {},
   "source": [
    "To get an output we need to add an aggregator function that indicates how we want to summarize the data that falls on each day. In this case we want the total precipitation on a day, so we will aggreagte using `sum()`:"
   ]
  },
  {
   "cell_type": "code",
   "execution_count": 52,
   "id": "8a533572-39a1-4b3a-b581-5a94e7f87c70",
   "metadata": {
    "tags": []
   },
   "outputs": [
    {
     "data": {
      "text/html": [
       "<div>\n",
       "<style scoped>\n",
       "    .dataframe tbody tr th:only-of-type {\n",
       "        vertical-align: middle;\n",
       "    }\n",
       "\n",
       "    .dataframe tbody tr th {\n",
       "        vertical-align: top;\n",
       "    }\n",
       "\n",
       "    .dataframe thead th {\n",
       "        text-align: right;\n",
       "    }\n",
       "</style>\n",
       "<table border=\"1\" class=\"dataframe\">\n",
       "  <thead>\n",
       "    <tr style=\"text-align: right;\">\n",
       "      <th></th>\n",
       "      <th>HPCP</th>\n",
       "    </tr>\n",
       "    <tr>\n",
       "      <th>DATE</th>\n",
       "      <th></th>\n",
       "    </tr>\n",
       "  </thead>\n",
       "  <tbody>\n",
       "    <tr>\n",
       "      <th>2013-01-01</th>\n",
       "      <td>0.0</td>\n",
       "    </tr>\n",
       "    <tr>\n",
       "      <th>2013-01-02</th>\n",
       "      <td>0.0</td>\n",
       "    </tr>\n",
       "    <tr>\n",
       "      <th>2013-01-03</th>\n",
       "      <td>0.0</td>\n",
       "    </tr>\n",
       "    <tr>\n",
       "      <th>2013-01-04</th>\n",
       "      <td>0.0</td>\n",
       "    </tr>\n",
       "    <tr>\n",
       "      <th>2013-01-05</th>\n",
       "      <td>0.0</td>\n",
       "    </tr>\n",
       "    <tr>\n",
       "      <th>...</th>\n",
       "      <td>...</td>\n",
       "    </tr>\n",
       "    <tr>\n",
       "      <th>2013-12-27</th>\n",
       "      <td>0.0</td>\n",
       "    </tr>\n",
       "    <tr>\n",
       "      <th>2013-12-28</th>\n",
       "      <td>0.1</td>\n",
       "    </tr>\n",
       "    <tr>\n",
       "      <th>2013-12-29</th>\n",
       "      <td>0.0</td>\n",
       "    </tr>\n",
       "    <tr>\n",
       "      <th>2013-12-30</th>\n",
       "      <td>0.1</td>\n",
       "    </tr>\n",
       "    <tr>\n",
       "      <th>2013-12-31</th>\n",
       "      <td>0.0</td>\n",
       "    </tr>\n",
       "  </tbody>\n",
       "</table>\n",
       "<p>365 rows × 1 columns</p>\n",
       "</div>"
      ],
      "text/plain": [
       "            HPCP\n",
       "DATE            \n",
       "2013-01-01   0.0\n",
       "2013-01-02   0.0\n",
       "2013-01-03   0.0\n",
       "2013-01-04   0.0\n",
       "2013-01-05   0.0\n",
       "...          ...\n",
       "2013-12-27   0.0\n",
       "2013-12-28   0.1\n",
       "2013-12-29   0.0\n",
       "2013-12-30   0.1\n",
       "2013-12-31   0.0\n",
       "\n",
       "[365 rows x 1 columns]"
      ]
     },
     "execution_count": 52,
     "metadata": {},
     "output_type": "execute_result"
    }
   ],
   "source": [
    "# total daily precipitation in 2013\n",
    "daily_precip_2013 = precip.loc['2013'].resample('D').sum()\n",
    "\n",
    "daily_precip_2013"
   ]
  },
  {
   "cell_type": "markdown",
   "id": "0df2fb2b-6e75-4c98-836c-19681ad5bba6",
   "metadata": {},
   "source": [
    "Notice the index now is every day in 2013. We should rename that column since it is not longer hourly precipitation:"
   ]
  },
  {
   "cell_type": "code",
   "execution_count": 53,
   "id": "0f7f70bb-7ca7-4c01-99bc-05b52a2cf433",
   "metadata": {
    "tags": []
   },
   "outputs": [],
   "source": [
    "# rename column\n",
    "daily_precip_2013 = daily_precip_2013.rename(columns={'HPCP':'daily_precipitation'})"
   ]
  },
  {
   "cell_type": "markdown",
   "id": "1d6557f6-5111-4869-a0a1-b5e0f053987c",
   "metadata": {},
   "source": [
    "finally, we can plot our data:"
   ]
  },
  {
   "cell_type": "code",
   "execution_count": 54,
   "id": "5ee380f3-130f-4165-919f-e8fc9d986b72",
   "metadata": {
    "tags": []
   },
   "outputs": [
    {
     "data": {
      "text/plain": [
       "<AxesSubplot:title={'center':'Precipitation in Boulder, CO during 2013'}, xlabel='Date', ylabel='Daily precipitation (in)'>"
      ]
     },
     "execution_count": 54,
     "metadata": {},
     "output_type": "execute_result"
    },
    {
     "data": {
      "image/png": "[encoded data removed]",
      "text/plain": [
       "<Figure size 640x480 with 1 Axes>"
      ]
     },
     "metadata": {},
     "output_type": "display_data"
    }
   ],
   "source": [
    "daily_precip_2013.plot(ylabel='Daily precipitation (in)',\n",
    "                       xlabel='Date',\n",
    "                       title='Precipitation in Boulder, CO during 2013',\n",
    "                       legend=False\n",
    "                      )"
   ]
  },
  {
   "cell_type": "markdown",
   "id": "5f3dd32c-e811-446f-a7a7-a10cc14882ca",
   "metadata": {},
   "source": [
    "# More info\n",
    "\n",
    "As usual, there’s so much more to learn about time series data. These documents will allow you to dive deeper:\n",
    "\n",
    "\n",
    "- 📖 [pandas getting started tutorials - How to handle time series data with ease](https://pandas.pydata.org/docs/getting_started/intro_tutorials/09_timeseries.html#min-tut-09-timeseries)\n",
    "- 📖 [Time Series Chapter, Python for Data Analysis, Wes McKinney](https://wesmckinney.com/book/time-series)\n",
    "\n",
    "- 📖 [pandas User Guide - Time series/date functionality](https://pandas.pydata.org/docs/user_guide/timeseries.html)"
   ]
  },
  {
   "cell_type": "markdown",
   "id": "6644d24a-3482-4d97-9cb8-8e4124a630a8",
   "metadata": {},
   "source": [
    "## Acknowledgements\n",
    "\n",
    "This lesson was adapted from [Dr. Sam Stevenson’s lecture on Data quality control and outliers: 1D time series](https://github.com/samanthastevenson/EDS220_Fall2022/blob/main/Precipitation_QCexample_BoulderCO.ipynb) and [Earth Lab’s Lesson 1. Work With Datetime Format in Python - Time Series Data](https://www.earthdatascience.org/courses/use-data-open-source-python/use-time-series-data-in-python/introduction-to-time-series-in-pandas-python/)."
   ]
  }
 ],
 "metadata": {
  "kernelspec": {
   "display_name": "Anaconda 3 (Base)",
   "language": "python",
   "name": "base"
  },
  "language_info": {
   "codemirror_mode": {
    "name": "ipython",
    "version": 3
   },
   "file_extension": ".py",
   "mimetype": "text/x-python",
   "name": "python",
   "nbconvert_exporter": "python",
   "pygments_lexer": "ipython3",
   "version": "3.9.13"
  }
 },
 "nbformat": 4,
 "nbformat_minor": 5
}
